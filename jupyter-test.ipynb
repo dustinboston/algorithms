{
 "cells": [
  {
   "cell_type": "markdown",
   "id": "a36b9c74",
   "metadata": {},
   "source": [
    "# Insertion sort"
   ]
  },
  {
   "cell_type": "code",
   "execution_count": 53,
   "id": "4c0845be",
   "metadata": {},
   "outputs": [
    {
     "data": {},
     "execution_count": 53,
     "metadata": {},
     "output_type": "execute_result"
    },
    {
     "name": "stdout",
     "output_type": "stream",
     "text": [
      "┌─────────┬───┬───┬───┬───┬───┬───┐\n",
      "│ (idx)   │ 0 │ 1 │ 2 │ 3 │ 4 │ 5 │\n",
      "├─────────┼───┼───┼───┼───┼───┼───┤\n",
      "│ initial │ 5 │ 2 │ 4 │ 6 │ 1 │ 3 │\n",
      "│ result  │ 1 │ 2 │ 3 │ 4 │ 5 │ 6 │\n",
      "└─────────┴───┴───┴───┴───┴───┴───┘\n"
     ]
    }
   ],
   "source": [
    "export function insertionSort(arr: number[]): void {\n",
    "    const length = arr.length;\n",
    "    let currentIndex: number, key: number, previousIndex: number;\n",
    "    for (currentIndex = 1; currentIndex < length; currentIndex += 1) {\n",
    "        key = arr[currentIndex];\n",
    "        previousIndex = currentIndex - 1;\n",
    "        while (previousIndex >= 0 && arr[previousIndex] > key) {\n",
    "            arr[previousIndex + 1] = arr[previousIndex];\n",
    "            arr[previousIndex] = key;\n",
    "            previousIndex -= 1;\n",
    "        }\n",
    "    }\n",
    "}\n",
    " \n",
    "const initial = [5, 2, 4, 6, 1, 3];\n",
    "const result = [...initial];\n",
    "\n",
    "insertionSort(result);\n",
    "\n",
    "console.table({initial, result});"
   ]
  }
 ],
 "metadata": {
  "kernelspec": {
   "display_name": "Deno",
   "language": "typescript",
   "name": "deno"
  },
  "language_info": {
   "file_extension": ".ts",
   "mimetype": "text/x.typescript",
   "name": "typescript",
   "nb_converter": "script",
   "pygments_lexer": "typescript",
   "version": "5.2.2"
  }
 },
 "nbformat": 4,
 "nbformat_minor": 5
}
